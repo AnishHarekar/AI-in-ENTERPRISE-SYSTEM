{
 "cells": [
  {
   "cell_type": "code",
   "execution_count": 2,
   "id": "80e3b777",
   "metadata": {},
   "outputs": [
    {
     "name": "stdout",
     "output_type": "stream",
     "text": [
      "Addition of 2 numbers: 11\n"
     ]
    }
   ],
   "source": [
    "num1 = int(input('Enter Number: '))\n",
    "num2 = int(input('Enter Number: '))\n",
    "result = num1 + num2\n",
    "print(f'Addition of 2 numbers: {result}')"
   ]
  },
  {
   "cell_type": "code",
   "execution_count": 3,
   "id": "9384cc0a",
   "metadata": {},
   "outputs": [
    {
     "name": "stdout",
     "output_type": "stream",
     "text": [
      "Multiplication of 2 numbers: 30\n"
     ]
    }
   ],
   "source": [
    "result = num1 * num2\n",
    "print(f'Multiplication of 2 numbers: {result}')"
   ]
  }
 ],
 "metadata": {
  "kernelspec": {
   "display_name": "Python 3 (ipykernel)",
   "language": "python",
   "name": "python3"
  },
  "language_info": {
   "codemirror_mode": {
    "name": "ipython",
    "version": 3
   },
   "file_extension": ".py",
   "mimetype": "text/x-python",
   "name": "python",
   "nbconvert_exporter": "python",
   "pygments_lexer": "ipython3",
   "version": "3.9.12"
  }
 },
 "nbformat": 4,
 "nbformat_minor": 5
}
